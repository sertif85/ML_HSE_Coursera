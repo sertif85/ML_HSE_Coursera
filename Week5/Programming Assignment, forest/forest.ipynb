{
 "cells": [
  {
   "cell_type": "markdown",
   "metadata": {},
   "source": [
    "Данное задание основано на материалах лекций по логическим методам и направлено на знакомство со случайными лесами (Random Forests).\n",
    "\n",
    "Вы научитесь:\n",
    "\n",
    "работать со случайным лесом — одним из наиболее распространенных семейств алгоритмов\n",
    "решать с его помощью задачи регрессии\n",
    "подбирать параметры случайного леса"
   ]
  },
  {
   "cell_type": "code",
   "execution_count": 34,
   "metadata": {},
   "outputs": [
    {
     "name": "stdout",
     "output_type": "stream",
     "text": [
      "Score is more 0.52 with { 22 } forests and equal { 0.52 }\n"
     ]
    }
   ],
   "source": [
    "import pandas as pd\n",
    "import numpy as np\n",
    "from sklearn.ensemble import RandomForestRegressor\n",
    "from sklearn.metrics import r2_score\n",
    "from sklearn.model_selection import cross_val_score\n",
    "from sklearn.model_selection import KFold\n",
    "import matplotlib.pyplot as plt\n",
    "\n",
    "# 1. Загрузите данные из файла abalone.csv. \n",
    "# Это датасет, в котором требуется предсказать возраст ракушки (число колец) по физическим измерениям.\n",
    "\n",
    "df = pd.read_csv('abalone.csv')\n",
    "X = df.loc[:, :'ShellWeight']\n",
    "y = np.ravel(df['Rings'])\n",
    "\n",
    "# 2. Преобразуйте признак Sex в числовой: значение F должно перейти в -1, I — в 0, M — в 1. \n",
    "X['Sex'] = X['Sex'].map(lambda x: 1 if x == 'M' else (-1 if x == 'F' else 0))\n",
    "\n",
    "# 3. Разделите содержимое файлов на признаки и целевую переменную. \n",
    "# В последнем столбце записана целевая переменная, в остальных — признаки.\n",
    "\n",
    "# 4. Обучите случайный лес (sklearn.ensemble.RandomForestRegressor) с различным числом деревьев: \n",
    "# от 1 до 50 (не забудьте выставить \"random_state=1\" в конструкторе). \n",
    "# Для каждого из вариантов оцените качество работы полученного леса на кросс-валидации по 5 блокам. \n",
    "# Используйте параметры \"random_state=1\" и \"shuffle=True\" при создании \n",
    "# генератора кросс-валидации sklearn.cross_validation.KFold. \n",
    "# В качестве меры качества воспользуйтесь коэффициентом детерминации (sklearn.metrics.r2_score).\n",
    "\n",
    "scores = np.array([])\n",
    "for n_est in range(1, 51):\n",
    "    model = RandomForestRegressor(n_estimators=n_est, random_state=1)\n",
    "    cv = KFold(n_splits=5, shuffle=True, random_state=1)\n",
    "    score = cross_val_score(model, X, y, cv=cv, scoring='r2')\n",
    "    scores = np.append(scores, score.mean())\n",
    "\n",
    "# 5. Определите, при каком минимальном количестве деревьев случайный лес показывает качество на кросс-валидации выше 0.52. Это количество и будет ответом на задание.\n",
    "for i in range(50):\n",
    "    if scores[i] >= 0.52:\n",
    "        print(\"Score is more 0.52 with { %d } forests and equal { %.2f }\" % (i+1, scores[i]))\n",
    "        break\n",
    "\n",
    "# 6. Обратите внимание на изменение качества по мере роста числа деревьев. Ухудшается ли оно?\n",
    "plt.plot(scores)\n",
    "plt.xlabel('n_estimators')\n",
    "plt.ylabel('score')\n",
    "plt.savefig('estimators_score.png')"
   ]
  }
 ],
 "metadata": {
  "kernelspec": {
   "display_name": "Python 2",
   "language": "python",
   "name": "python2"
  },
  "language_info": {
   "codemirror_mode": {
    "name": "ipython",
    "version": 2
   },
   "file_extension": ".py",
   "mimetype": "text/x-python",
   "name": "python",
   "nbconvert_exporter": "python",
   "pygments_lexer": "ipython2",
   "version": "2.7.5"
  }
 },
 "nbformat": 4,
 "nbformat_minor": 2
}
