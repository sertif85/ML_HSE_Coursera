{
 "cells": [
  {
   "cell_type": "markdown",
   "metadata": {},
   "source": [
    "# Peer-graded Assignment: Проект: предсказания победителя в онлайн-игре\n",
    "\n",
    "# Подход 2: логистическая регрессия"
   ]
  },
  {
   "cell_type": "code",
   "execution_count": 252,
   "metadata": {
    "collapsed": true
   },
   "outputs": [],
   "source": [
    "import time\n",
    "import datetime\n",
    "import pandas as pd\n",
    "import numpy as np\n",
    "import matplotlib.pyplot as plt\n",
    "from sklearn.preprocessing import StandardScaler\n",
    "from sklearn.model_selection import KFold\n",
    "from sklearn.model_selection import cross_val_score\n",
    "from sklearn.linear_model import LogisticRegression\n",
    "from sklearn.metrics import auc\n",
    "\n",
    "%matplotlib inline\n",
    "\n",
    "features_train = pd.read_csv('features.csv', index_col='match_id')\n",
    "r, c = features.shape\n",
    "\n",
    "C_row = range(-5, 5)\n",
    "C = [10 ** i for i in C_row]\n",
    "\n",
    "# Удаление признаков связанных с результатами матчей и заполнение признаков с пропусками нулями\n",
    "def features_clean(X):\n",
    "    X = X.drop([\n",
    "        'duration',\n",
    "        'radiant_win',\n",
    "        'tower_status_radiant',\n",
    "        'tower_status_dire',\n",
    "        'barracks_status_radiant',\n",
    "        'barracks_status_dire'], axis=1)\n",
    "    X = X.fillna(value=0)\n",
    "    \n",
    "    return X\n",
    "\n",
    "# Масштабируем данные\n",
    "def features_scaler(X):\n",
    "    scaler = StandardScaler()\n",
    "    X_scale = pd.DataFrame(scaler.fit_transform(X), index=X.index, columns=X.columns)\n",
    "\n",
    "    return X_scale\n",
    "\n",
    "# Удаляем категориальные признаки\n",
    "def features_clean_categories(X):\n",
    "    X_without_categories = X.copy()\n",
    "    X_without_categories = X.drop([\n",
    "        'lobby_type',\n",
    "        'r1_hero', 'r2_hero', 'r3_hero', 'r4_hero', 'r5_hero',\n",
    "        'd1_hero', 'd2_hero', 'd3_hero', 'd4_hero', 'd5_hero'\n",
    "    ], axis=1)\n",
    "    \n",
    "    return X_without_categories\n",
    "\n",
    "# Создание новых признаков на основе \"мешка слов\"\n",
    "def features_create(X, heroes_count):\n",
    "    X_pick = np.zeros((X.shape[0], heroes_count))\n",
    "\n",
    "    for i, match_id in enumerate(X.index):\n",
    "        for p in xrange(5):\n",
    "            X_pick[i, X.ix[match_id, 'r%d_hero' % (p+1)]-1] = 1\n",
    "            X_pick[i, X.ix[match_id, 'd%d_hero' % (p+1)]-1] = -1\n",
    "    \n",
    "    heroes_columns = ['h' + str(i) for i in xrange(1, heroes_count+1)]\n",
    "    X_pick = pd.DataFrame(X_pick, index=X.index, columns=heroes_columns)\n",
    "#X_heroes.columns = index_heroes\n",
    "\n",
    "    return X_pick\n",
    "\n",
    "# Функция тестирования модели с заданным параметром C\n",
    "def model_test(X, y, C = [0.1]):\n",
    "    scores = np.array([])\n",
    "    for c in C:\n",
    "        print(\"C = %f\" % c)\n",
    "        cv = KFold(n_splits=5, shuffle=True, random_state=241)\n",
    "        model = LogisticRegression(C=c)\n",
    "#        model = LogisticRegression(penalty='l2', solver='saga', C=c)\n",
    "        start_time = datetime.datetime.now()\n",
    "        score = cross_val_score(model, X, y, cv=cv, scoring='roc_auc')\n",
    "        print 'Time elapsed: ', datetime.datetime.now() - start_time\n",
    "        print 'Score: ', score\n",
    "        scores = np.append(scores, score.mean())\n",
    "    return scores\n",
    "\n",
    "def get_best_c(scores, C):\n",
    "    evaluation = 0\n",
    "    c = 0\n",
    "    for i in xrange(len(scores)):\n",
    "        if evaluation < scores[i]:\n",
    "            c = i\n",
    "            evaluation = scores[i]\n",
    "    \n",
    "    return evaluation, C[c]\n",
    "\n",
    "def get_plot_C(C_row, scores):\n",
    "    plt.plot(C_row, scores)\n",
    "    plt.xlabel('log(C)')\n",
    "    plt.ylabel('score')\n",
    "    plt.show()\n",
    "    \n",
    "#\n",
    "#    \n",
    "# X -\n",
    "#X = features.copy()\n",
    "#X, y = features_clean(X)\n",
    "#X = features_scaler(X)\n",
    "\n",
    "#X_ = features_clean_categories(X)"
   ]
  },
  {
   "cell_type": "code",
   "execution_count": 219,
   "metadata": {
    "collapsed": true
   },
   "outputs": [],
   "source": [
    "# First - Тестирование на сырых данных\n",
    "\n",
    "X = features.copy()\n",
    "y = np.ravel(X['radiant_win'])\n",
    "X = features_clean(X)\n",
    "X = features_scaler(X)\n"
   ]
  },
  {
   "cell_type": "code",
   "execution_count": 217,
   "metadata": {},
   "outputs": [
    {
     "name": "stdout",
     "output_type": "stream",
     "text": [
      "C = 0.000010\n",
      "Time elapsed:  0:00:02.984200\n",
      "Score:  [ 0.69959206  0.69159358  0.69419291  0.69433159  0.69589176]\n",
      "C = 0.000100\n",
      "Time elapsed:  0:00:04.033679\n",
      "Score:  [ 0.7161759   0.7083769   0.70960313  0.71017245  0.71192219]\n",
      "C = 0.001000\n",
      "Time elapsed:  0:00:07.503420\n",
      "Score:  [ 0.72134945  0.71368677  0.71425051  0.71512064  0.71649386]\n",
      "C = 0.010000\n",
      "Time elapsed:  0:00:09.861405\n",
      "Score:  [ 0.7216634   0.71377395  0.71440813  0.71540233  0.7164595 ]\n",
      "C = 0.100000\n",
      "Time elapsed:  0:00:10.346808\n",
      "Score:  [ 0.72165841  0.7137031   0.71438941  0.71539496  0.71640454]\n",
      "C = 1.000000\n",
      "Time elapsed:  0:00:10.313886\n",
      "Score:  [ 0.72165762  0.71369565  0.71438656  0.71539329  0.7163998 ]\n",
      "C = 10.000000\n",
      "Time elapsed:  0:00:10.336272\n",
      "Score:  [ 0.72165702  0.7136947   0.71438623  0.71539423  0.71639952]\n",
      "C = 100.000000\n",
      "Time elapsed:  0:00:10.336314\n",
      "Score:  [ 0.72165734  0.71369455  0.7143859   0.71539408  0.71639946]\n",
      "C = 1000.000000\n",
      "Time elapsed:  0:00:10.327244\n",
      "Score:  [ 0.72165734  0.71369457  0.71438593  0.71539409  0.71639938]\n",
      "C = 10000.000000\n",
      "Time elapsed:  0:00:10.327339\n",
      "Score:  [ 0.72165733  0.71369457  0.71438593  0.71539407  0.71639938]\n"
     ]
    },
    {
     "data": {
      "image/png": "[encoded data removed]",
      "text/plain": [
       "<matplotlib.figure.Figure at 0x9462490>"
      ]
     },
     "metadata": {},
     "output_type": "display_data"
    },
    {
     "name": "stdout",
     "output_type": "stream",
     "text": [
      "The best score is 0.716341 with C = 0.010000\n"
     ]
    }
   ],
   "source": [
    "scores_first = model_test(X, y, C)\n",
    "evaluation_first, c_first = get_best_c(scores_first, C)\n",
    "get_plot_C(C_row, scores_first)\n",
    "print(\"The best score is %f with C = %f\" % (evaluation_first, c_first))"
   ]
  },
  {
   "cell_type": "code",
   "execution_count": 220,
   "metadata": {},
   "outputs": [],
   "source": [
    "# SECOND - Тестирование на данных без категориальных признаков\n",
    "\n",
    "X_ = features_clean_categories(X)\n"
   ]
  },
  {
   "cell_type": "code",
   "execution_count": 222,
   "metadata": {},
   "outputs": [
    {
     "name": "stdout",
     "output_type": "stream",
     "text": [
      "C = 0.000010\n",
      "Time elapsed:  0:00:03.283038\n",
      "Score:  [ 0.69961316  0.69150564  0.69419646  0.69425458  0.69571482]\n",
      "C = 0.000100\n",
      "Time elapsed:  0:00:03.404312\n",
      "Score:  [ 0.71630684  0.70828717  0.70971489  0.71020968  0.71172337]\n",
      "C = 0.001000\n",
      "Time elapsed:  0:00:06.580488\n",
      "Score:  [ 0.72152794  0.71360976  0.71445497  0.71521698  0.71636831]\n",
      "C = 0.010000\n",
      "Time elapsed:  0:00:08.833186\n",
      "Score:  [ 0.7218164   0.71370124  0.71462628  0.71551614  0.71634469]\n",
      "C = 0.100000\n",
      "Time elapsed:  0:00:09.092890\n",
      "Score:  [ 0.72181205  0.7136378   0.7146095   0.71551012  0.71629945]\n",
      "C = 1.000000\n",
      "Time elapsed:  0:00:09.124259\n",
      "Score:  [ 0.72181039  0.71363045  0.71460884  0.71551016  0.71629392]\n",
      "C = 10.000000\n",
      "Time elapsed:  0:00:09.201163\n",
      "Score:  [ 0.72181043  0.71362965  0.71460893  0.71551033  0.71629306]\n",
      "C = 100.000000\n",
      "Time elapsed:  0:00:09.895726\n",
      "Score:  [ 0.72181067  0.71362945  0.71460889  0.71551027  0.71629322]\n",
      "C = 1000.000000\n",
      "Time elapsed:  0:00:09.724527\n",
      "Score:  [ 0.72181072  0.71362952  0.71460893  0.71551026  0.71629323]\n",
      "C = 10000.000000\n",
      "Time elapsed:  0:00:09.123067\n",
      "Score:  [ 0.72181071  0.71362952  0.71460894  0.71551026  0.71629323]\n"
     ]
    },
    {
     "data": {
      "image/png": "[encoded data removed]",
      "text/plain": [
       "<matplotlib.figure.Figure at 0xd78b790>"
      ]
     },
     "metadata": {},
     "output_type": "display_data"
    },
    {
     "name": "stdout",
     "output_type": "stream",
     "text": [
      "The best score is 0.716401 with C = 0.010000\n"
     ]
    }
   ],
   "source": [
    "scores_second = model_test(X_, y, C)\n",
    "evaluation_second, c_second = get_best_c(scores_second, C)\n",
    "get_plot_C(C_row, scores_second)\n",
    "print(\"The best score is %f with C = %f\" % (evaluation_second, c_second))"
   ]
  },
  {
   "cell_type": "code",
   "execution_count": 228,
   "metadata": {},
   "outputs": [
    {
     "name": "stdout",
     "output_type": "stream",
     "text": [
      "There are 108 heroes used at train data.\n",
      "There are 112 heroes used at the game (data from heroes.csv)\n"
     ]
    }
   ],
   "source": [
    "hero_columns = ['r1_hero', 'r2_hero', 'r3_hero', 'r4_hero', 'r5_hero', 'd1_hero', 'd2_hero', 'd3_hero', 'd4_hero', 'd5_hero']\n",
    "hero_values = np.array([])\n",
    "\n",
    "for column in hero_columns:\n",
    "    t = features['r1_hero'].unique()\n",
    "    hero_values = np.append(hero_values, t)\n",
    "\n",
    "heroes_count_train = len(np.unique(hero_values))\n",
    "print(\"There are %d heroes used at train data.\" % heroes_count)\n",
    "\n",
    "heroes = pd.read_csv('heroes.csv')\n",
    "heroes_count = len(heroes)\n",
    "print(\"There are %d heroes used at the game (data from heroes.csv)\" % heroes_count)"
   ]
  },
  {
   "cell_type": "code",
   "execution_count": 235,
   "metadata": {},
   "outputs": [
    {
     "data": {
      "text/plain": [
       "11"
      ]
     },
     "execution_count": 235,
     "metadata": {},
     "output_type": "execute_result"
    }
   ],
   "source": [
    "features.r1_hero[0]"
   ]
  },
  {
   "cell_type": "code",
   "execution_count": 243,
   "metadata": {},
   "outputs": [],
   "source": [
    "# ThIRD - Тестирование с добавлением новых признаков героев\n",
    "\n",
    "X_pick = features_create(features, heroes_count=heroes_count)\n",
    "X_bag = pd.concat([X_, X_pick], axis=1)"
   ]
  },
  {
   "cell_type": "code",
   "execution_count": 247,
   "metadata": {},
   "outputs": [
    {
     "name": "stdout",
     "output_type": "stream",
     "text": [
      "C = 0.000010\n",
      "Time elapsed:  0:00:02.718068\n",
      "Score:  [ 0.70384072  0.69557033  0.69838234  0.69839816  0.69966507]\n",
      "C = 0.000100\n",
      "Time elapsed:  0:00:04.201648\n",
      "Score:  [ 0.7300782   0.7222305   0.72367081  0.72384682  0.72528442]\n",
      "C = 0.001000\n",
      "Time elapsed:  0:00:08.535991\n",
      "Score:  [ 0.75073228  0.74413908  0.74560954  0.74433549  0.74666478]\n",
      "C = 0.010000\n",
      "Time elapsed:  0:00:14.065867\n",
      "Score:  [ 0.75511581  0.7496667   0.7517913   0.74944059  0.75266536]\n",
      "C = 0.100000\n",
      "Time elapsed:  0:00:19.017103\n",
      "Score:  [ 0.7551572   0.74990841  0.75213544  0.74956231  0.75292389]\n",
      "C = 1.000000\n",
      "Time elapsed:  0:00:19.909531\n",
      "Score:  [ 0.75512742  0.74989818  0.75212697  0.74954165  0.75290449]\n",
      "C = 10.000000\n",
      "Time elapsed:  0:00:20.070919\n",
      "Score:  [ 0.75512089  0.74989744  0.75212535  0.74954013  0.75290264]\n",
      "C = 100.000000\n",
      "Time elapsed:  0:00:19.984604\n",
      "Score:  [ 0.75512029  0.74989741  0.75212493  0.74954004  0.75290224]\n",
      "C = 1000.000000\n",
      "Time elapsed:  0:00:20.351875\n",
      "Score:  [ 0.75512035  0.74989711  0.75212518  0.74953973  0.75290231]\n",
      "C = 10000.000000\n",
      "Time elapsed:  0:00:21.421269\n",
      "Score:  [ 0.75512051  0.7498971   0.75212559  0.74954032  0.75290235]\n"
     ]
    },
    {
     "data": {
      "image/png": "[encoded data removed]",
      "text/plain": [
       "<matplotlib.figure.Figure at 0xd769750>"
      ]
     },
     "metadata": {},
     "output_type": "display_data"
    },
    {
     "name": "stdout",
     "output_type": "stream",
     "text": [
      "The best score is 0.751937 with C = 0.100000\n"
     ]
    }
   ],
   "source": [
    "scores_bag = model_test(X_bag, y, C)\n",
    "evaluation_bag, c_bag = get_best_c(scores_bag, C)\n",
    "get_plot_C(C_row, scores_bag)\n",
    "print(\"The best score is %f with C = %f\" % (evaluation_bag, c_bag))"
   ]
  },
  {
   "cell_type": "code",
   "execution_count": 260,
   "metadata": {},
   "outputs": [
    {
     "name": "stderr",
     "output_type": "stream",
     "text": [
      "/usr/lib/python2.7/site-packages/ipykernel_launcher.py:57: DeprecationWarning: \n",
      ".ix is deprecated. Please use\n",
      ".loc for label based indexing or\n",
      ".iloc for positional indexing\n",
      "\n",
      "See the documentation here:\n",
      "http://pandas.pydata.org/pandas-docs/stable/indexing.html#ix-indexer-is-deprecated\n"
     ]
    },
    {
     "data": {
      "text/plain": [
       "LogisticRegression(C=0.1, class_weight=None, dual=False, fit_intercept=True,\n",
       "          intercept_scaling=1, max_iter=100, multi_class='ovr', n_jobs=-1,\n",
       "          penalty='l2', random_state=241, solver='liblinear', tol=0.0001,\n",
       "          verbose=0, warm_start=False)"
      ]
     },
     "execution_count": 260,
     "metadata": {},
     "output_type": "execute_result"
    }
   ],
   "source": [
    "# Тестирование на данных c мешком слов\n",
    "\n",
    "features_test = pd.read_csv('features_test.csv', index_col='match_id')\n",
    "X_test = features_test.copy()\n",
    "X_test = X_test.fillna(0)\n",
    "#X_test = features_clean(features_test)\n",
    "X_test = features_scaler(X_test)\n",
    "X_test = features_clean_categories(X_test)\n",
    "X_pick1 = features_create(features_test, heroes_count=heroes_count)\n",
    "X_test = pd.concat([X_test, X_pick1], axis=1)\n",
    "\n",
    "model = LogisticRegression(C=0.1, random_state=241, n_jobs=-1)\n",
    "model.fit(X_bag, y)\n",
    "\n",
    "pred = model.predict_proba(X_test)[:, 1]\n",
    "\n",
    "submission = pd.DataFrame({\n",
    "    'match_id':list(X_test.index),\n",
    "    'radiant_win':list(pred)\n",
    "})\n",
    "\n",
    "submission.to_csv('dota2_predicts_logreg.csv', index=False)"
   ]
  },
  {
   "cell_type": "code",
   "execution_count": null,
   "metadata": {
    "collapsed": true
   },
   "outputs": [],
   "source": [
    "Kaggle score 0.75526"
   ]
  },
  {
   "cell_type": "code",
   "execution_count": 283,
   "metadata": {},
   "outputs": [],
   "source": [
    "import xgboost as xgb\n",
    "\n",
    "gbm = xgb.XGBClassifier(max_depth=3, n_estimators=250, learning_rate=0.05).fit(X_bag, y)\n",
    "predictions = gbm.predict(X_test)"
   ]
  },
  {
   "cell_type": "code",
   "execution_count": 284,
   "metadata": {},
   "outputs": [
    {
     "data": {
      "text/plain": [
       "array([1, 1, 0, ..., 0, 0, 1])"
      ]
     },
     "execution_count": 284,
     "metadata": {},
     "output_type": "execute_result"
    }
   ],
   "source": [
    "predictions"
   ]
  }
 ],
 "metadata": {
  "kernelspec": {
   "display_name": "Python 2",
   "language": "python",
   "name": "python2"
  },
  "language_info": {
   "codemirror_mode": {
    "name": "ipython",
    "version": 2
   },
   "file_extension": ".py",
   "mimetype": "text/x-python",
   "name": "python",
   "nbconvert_exporter": "python",
   "pygments_lexer": "ipython2",
   "version": "2.7.5"
  }
 },
 "nbformat": 4,
 "nbformat_minor": 2
}
