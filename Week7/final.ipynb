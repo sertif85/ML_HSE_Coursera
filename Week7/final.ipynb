{
 "cells": [
  {
   "cell_type": "markdown",
   "metadata": {},
   "source": [
    "# Проект: предсказания победителя в онлайн-игре\n",
    "\n",
    "# Подход 1: градиентный бустинг \"в лоб\""
   ]
  },
  {
   "cell_type": "code",
   "execution_count": 5,
   "metadata": {
    "collapsed": true
   },
   "outputs": [],
   "source": [
    "import time\n",
    "import datetime\n",
    "import pandas as pd\n",
    "import numpy as np\n",
    "import matplotlib.pyplot as plt\n",
    "from sklearn.model_selection import KFold\n",
    "from sklearn.model_selection import cross_val_score\n",
    "from sklearn.ensemble import GradientBoostingClassifier\n",
    "from sklearn.metrics import auc\n",
    "from sklearn.preprocessing import StandardScaler\n",
    "from sklearn.linear_model import LogisticRegression\n",
    "\n",
    "%matplotlib inline\n",
    "\n",
    "features = pd.read_csv('features.csv', index_col='match_id')\n",
    "r, c = features.shape\n",
    "\n",
    "# Удаление признаков связанных с результатами матчей и заполнение признаков с пропусками нулями\n",
    "def features_clean(X):\n",
    "    X = X.drop([\n",
    "        'duration',\n",
    "        'radiant_win',\n",
    "        'tower_status_radiant',\n",
    "        'tower_status_dire',\n",
    "        'barracks_status_radiant',\n",
    "        'barracks_status_dire'], axis=1)\n",
    "    X = X.fillna(value=0)\n",
    "    \n",
    "    return X\n",
    "\n",
    "# Функция тестирования модели с заданным количеством деревьев и скорости обучения\n",
    "def gbc_model_test(learning_rate=0.5, n_estimators=[10, 20]):\n",
    "    scores = np.array([])\n",
    "    for n_est in n_estimators:\n",
    "        print(\"n_estimators = %d\" % n_est)\n",
    "        cv = KFold(n_splits=5, shuffle=True, random_state=241)\n",
    "        model = GradientBoostingClassifier(learning_rate=learning_rate, n_estimators=n_est, random_state=241)\n",
    "        start_time = datetime.datetime.now()\n",
    "        score = cross_val_score(model, X, y, cv=cv, scoring='roc_auc')\n",
    "        print 'Time elapsed: ', datetime.datetime.now() - start_time\n",
    "        print 'Score: ', score\n",
    "        scores = np.append(scores, score.mean())\n",
    "    return scores"
   ]
  },
  {
   "cell_type": "code",
   "execution_count": 6,
   "metadata": {},
   "outputs": [
    {
     "name": "stdout",
     "output_type": "stream",
     "text": [
      "first_blood_time\t19553\n",
      "first_blood_team\t19553\n",
      "first_blood_player1\t19553\n",
      "first_blood_player2\t43987\n",
      "radiant_bottle_time\t15691\n",
      "radiant_courier_time\t692\n",
      "radiant_flying_courier_time\t27479\n",
      "radiant_first_ward_time\t1836\n",
      "dire_bottle_time\t16143\n",
      "dire_courier_time\t676\n",
      "dire_flying_courier_time\t26098\n",
      "dire_first_ward_time\t1826\n"
     ]
    }
   ],
   "source": [
    "X = features.copy()\n",
    "y = np.ravel(features['radiant_win'])\n",
    "\n",
    "# Определяем признаки с пропусками и заполняем их нулями\n",
    "for column in X.columns:\n",
    "    gap = r - X[column].count()\n",
    "    if gap > 0:\n",
    "        print(\"%s\\t%d\" % (column, gap))\n",
    "\n",
    "X = features_clean(X)"
   ]
  },
  {
   "cell_type": "code",
   "execution_count": 7,
   "metadata": {},
   "outputs": [
    {
     "name": "stdout",
     "output_type": "stream",
     "text": [
      "\n",
      "Testing model with learning rate 1.000000\n",
      "\n",
      "n_estimators = 10\n",
      "Time elapsed:  0:00:27.718006\n",
      "Score:  [ 0.68995292  0.67862372  0.67873962  0.68232515  0.68697234]\n",
      "n_estimators = 20\n",
      "Time elapsed:  0:00:49.797470\n",
      "Score:  [ 0.69669337  0.68817387  0.68508549  0.69124587  0.69476796]\n",
      "\n",
      "Testing model with learning rate 0.500000\n",
      "\n",
      "n_estimators = 10\n",
      "Time elapsed:  0:00:26.422735\n",
      "Score:  [ 0.68914913  0.67871917  0.68166658  0.68268293  0.68826445]\n",
      "n_estimators = 20\n",
      "Time elapsed:  0:00:48.758138\n",
      "Score:  [ 0.69991575  0.69181981  0.69328443  0.69650744  0.70195446]\n",
      "\n",
      "Testing model with learning rate 0.300000\n",
      "\n",
      "n_estimators = 10\n",
      "Time elapsed:  0:00:24.643703\n",
      "Score:  [ 0.68843653  0.67603488  0.67987841  0.68262608  0.68869448]\n",
      "n_estimators = 20\n",
      "Time elapsed:  0:00:43.460880\n",
      "Score:  [ 0.70112158  0.6903779   0.69384366  0.6930134   0.7003959 ]\n",
      "\n",
      "Testing model with learning rate 0.200000\n",
      "\n",
      "n_estimators = 10\n",
      "Time elapsed:  0:00:23.415147\n",
      "Score:  [ 0.68348338  0.66939648  0.67607657  0.67597562  0.68153762]\n",
      "n_estimators = 20\n",
      "Time elapsed:  0:00:43.525726\n",
      "Score:  [ 0.69739742  0.68693157  0.68980104  0.6896984   0.69425689]\n",
      "\n",
      "Testing model with learning rate 0.100000\n",
      "\n",
      "n_estimators = 10\n",
      "Time elapsed:  0:00:23.913449\n",
      "Score:  [ 0.66943496  0.65627754  0.66390454  0.66281223  0.66950933]\n",
      "n_estimators = 20\n",
      "Time elapsed:  0:00:43.409841\n",
      "Score:  [ 0.68939011  0.67567277  0.68201026  0.67977584  0.68741889]\n",
      "\n",
      "The best learning rate value is { 0.50 }\n"
     ]
    }
   ],
   "source": [
    "# Подбор более подходящего значения скорости обучения\n",
    "scores_ = {}\n",
    "for learning_rate in [1, 0.5, 0.3, 0.2, 0.1]:\n",
    "    print(\"\\nTesting model with learning rate %f\\n\" % learning_rate)\n",
    "    scores_[learning_rate] = gbc_model_test(learning_rate=learning_rate)\n",
    "\n",
    "best_lr = 0\n",
    "best_lr_x, best_lr_y = 0, 0\n",
    "for i in xrange(5):\n",
    "    if scores_.items()[i][1][0] > best_lr_x and scores_.items()[i][1][1] > best_lr_y:\n",
    "        best_lr_x = scores_.items()[i][1][0]\n",
    "        best_lr_y = scores_.items()[i][1][1]\n",
    "        best_lr = scores_.items()[i][0]\n",
    "\n",
    "print(\"\\nThe best learning rate value is { %.2f }\" % best_lr)"
   ]
  },
  {
   "cell_type": "code",
   "execution_count": 9,
   "metadata": {},
   "outputs": [
    {
     "name": "stdout",
     "output_type": "stream",
     "text": [
      "n_estimators = 30\n",
      "Time elapsed:  0:01:03.894389\n",
      "Score:  [ 0.7053997   0.69699335  0.6979751   0.7018166   0.70565901]\n",
      "n_estimators = 50\n",
      "Time elapsed:  0:01:41.871819\n",
      "Score:  [ 0.71181897  0.70167028  0.70347427  0.70618343  0.71103276]\n",
      "n_estimators = 100\n",
      "Time elapsed:  0:03:15.643749\n",
      "Score:  [ 0.71541638  0.70792045  0.70617748  0.71129033  0.71575365]\n",
      "n_estimators = 200\n",
      "Time elapsed:  0:06:07.400567\n",
      "Score:  [ 0.71566823  0.71002401  0.7107601   0.71069774  0.71714431]\n",
      "n_estimators = 250\n",
      "Time elapsed:  0:07:58.384245\n",
      "Score:  [ 0.71371971  0.70903301  0.70892526  0.71173471  0.71594359]\n",
      "n_estimators = 300\n",
      "Time elapsed:  0:08:53.675417\n",
      "Score:  [ 0.71116831  0.70796453  0.70738595  0.7106641   0.71432084]\n",
      "n_estimators = 350\n",
      "Time elapsed:  0:10:34.339841\n",
      "Score:  [ 0.71091993  0.70697359  0.70577619  0.71055353  0.71397314]\n"
     ]
    },
    {
     "data": {
      "image/png": "[encoded data removed]",
      "text/plain": [
       "<matplotlib.figure.Figure at 0x7f0484ba3a50>"
      ]
     },
     "metadata": {},
     "output_type": "display_data"
    }
   ],
   "source": [
    "# Подбираем оптимальное число деревьев\n",
    "scores = gbc_model_test(n_estimators=[30, 50, 100, 200, 250, 300, 350])\n",
    "\n",
    "plt.plot([30, 50, 100, 200, 250, 300, 350], scores)\n",
    "plt.xlabel('n_estimators')\n",
    "plt.ylabel('score')\n",
    "plt.show()"
   ]
  },
  {
   "cell_type": "markdown",
   "metadata": {},
   "source": [
    "# Ответы на часть 1\n",
    "<br>\n",
    "1. Какие признаки имеют пропуски среди своих значений? Что могут означать пропуски в этих признаках (ответьте на этот вопрос для двух любых признаков)?<br>\n",
    "Следующие признаки **имеют пропуски** среди своих значений (Признак : количество пропусков):<br>\n",
    "first_blood_time : 19553<br>\n",
    "first_blood_team : 19553<br>\n",
    "first_blood_player1 : 19553<br>\n",
    "first_blood_player2 : 43987<br>\n",
    "radiant_bottle_time : 15691<br>\n",
    "radiant_courier_time : 692<br>\n",
    "radiant_flying_courier_time : 27479<br>\n",
    "radiant_first_ward_time : 1836<br>\n",
    "dire_bottle_time : 16143<br>\n",
    "dire_courier_time : 676<br>\n",
    "dire_flying_courier_time : 26098<br>\n",
    "dire_first_ward_time : 1826<br>\n",
    "<br>\n",
    "Признак **first\\_blood\\_time** - это игровое время первой крови. \"Первая кровь\", как событие, может не произойти в первые пять минут игры, тогда оно примет пропущенное значение. Этим могут объясняться пропуски в остальных признаках \"первой крови\".<br>\n",
    "Признак **first\\_blood\\_player2** - это второй игрок, причастный к событию \"первой крови\". Данное событие может происходить с участием только одного игрока, тогда значение причастности второго будет пропуском.<br>\n",
    "Признаки **(radiant|dire)\\_bottle\\_time** - время первого приобретения командой предмета \"bottle\". Команды могут не купить за первые 5 минут данный предмет, тогда значение будет пропуском.<br>\n",
    "<br>\n",
    "2. Как называется столбец, содержащий целевую переменную?<br>\n",
    "**radiant_win**<br>\n",
    "<br>\n",
    "3. Как долго проводилась кросс-валидация для градиентного бустинга с 30 деревьями? Какое качество при этом получилось? <br>\n",
    "Кросс-валидация для градиентного бустинга с **30 деревьями** проводилась **0:01:09**, с качеством **AUC-ROC 0.70**.<br>\n",
    "<br>\n",
    "4. Имеет ли смысл использовать больше 30 деревьев в градиентном бустинге? Что бы вы предложили делать, чтобы ускорить его обучение при увеличении количества деревьев?<br>\n",
    "Да, имеет смысл использовать более 30 деревьев, примерно около 200, т.к. качество при большем количестве деревьев растет. При количестве деревьев более 200 качество начинает падать.<br>\n",
    "50 деревьев - качество 0.70683594<br>\n",
    "100 деревьев - качество 0.71131166<br>\n",
    "**200 деревьев - качество 0.71285888**<br>\n",
    "250 деревьев - качество 0.71187126<br>\n",
    "300 деревьев - качество 0.71030075<br>\n",
    "350 деревьев - качество 0.70963928<br>\n",
    "<br>\n",
    "Для усорения обучения можно сократить глубину строящихся деревьев (max_depth), также можно обучаться не на всей выборке, а использовать только часть от неё."
   ]
  },
  {
   "cell_type": "markdown",
   "metadata": {},
   "source": [
    "# Подход 2: логистическая регрессия"
   ]
  },
  {
   "cell_type": "code",
   "execution_count": 12,
   "metadata": {
    "collapsed": true
   },
   "outputs": [],
   "source": [
    "features_train = pd.read_csv('features.csv', index_col='match_id')\n",
    "r, c = features_train.shape\n",
    "\n",
    "C_row = range(-5, 5)\n",
    "C = [10 ** i for i in C_row]\n",
    "\n",
    "# Масштабируем данные\n",
    "def features_scaler(X):\n",
    "    scaler = StandardScaler()\n",
    "    X_scale = pd.DataFrame(scaler.fit_transform(X), index=X.index, columns=X.columns)\n",
    "\n",
    "    return X_scale\n",
    "\n",
    "# Удаляем категориальные признаки\n",
    "def features_clean_categories(X):\n",
    "    X_without_categories = X.copy()\n",
    "    X_without_categories = X.drop([\n",
    "        'lobby_type',\n",
    "        'r1_hero', 'r2_hero', 'r3_hero', 'r4_hero', 'r5_hero',\n",
    "        'd1_hero', 'd2_hero', 'd3_hero', 'd4_hero', 'd5_hero'\n",
    "    ], axis=1)\n",
    "    \n",
    "    return X_without_categories\n",
    "\n",
    "# Создание новых признаков на основе \"мешка слов\"\n",
    "def features_create(X, heroes_count):\n",
    "    X_pick = np.zeros((X.shape[0], heroes_count))\n",
    "\n",
    "    for i, match_id in enumerate(X.index):\n",
    "        for p in xrange(5):\n",
    "            X_pick[i, X.ix[match_id, 'r%d_hero' % (p+1)]-1] = 1\n",
    "            X_pick[i, X.ix[match_id, 'd%d_hero' % (p+1)]-1] = -1\n",
    "    \n",
    "    heroes_columns = ['h' + str(i) for i in xrange(1, heroes_count+1)]\n",
    "    X_pick = pd.DataFrame(X_pick, index=X.index, columns=heroes_columns)\n",
    "\n",
    "    return X_pick\n",
    "\n",
    "# Функция тестирования модели с заданным параметром C\n",
    "def model_test(X, y, C = [0.1]):\n",
    "    scores = np.array([])\n",
    "    for c in C:\n",
    "        print(\"C = %f\" % c)\n",
    "        cv = KFold(n_splits=5, shuffle=True, random_state=241)\n",
    "        model = LogisticRegression(C=c)\n",
    "#        model = LogisticRegression(penalty='l2', solver='saga', C=c)\n",
    "        start_time = datetime.datetime.now()\n",
    "        score = cross_val_score(model, X, y, cv=cv, scoring='roc_auc')\n",
    "        print 'Time elapsed: ', datetime.datetime.now() - start_time\n",
    "        print 'Score: ', score\n",
    "        scores = np.append(scores, score.mean())\n",
    "    return scores\n",
    "\n",
    "def get_best_c(scores, C):\n",
    "    evaluation = 0\n",
    "    c = 0\n",
    "    for i in xrange(len(scores)):\n",
    "        if evaluation < scores[i]:\n",
    "            c = i\n",
    "            evaluation = scores[i]\n",
    "    \n",
    "    return evaluation, C[c]\n",
    "\n",
    "def get_plot_C(C_row, scores):\n",
    "    plt.plot(C_row, scores)\n",
    "    plt.xlabel('log(C)')\n",
    "    plt.ylabel('score')\n",
    "    plt.show()\n"
   ]
  },
  {
   "cell_type": "code",
   "execution_count": 13,
   "metadata": {},
   "outputs": [
    {
     "name": "stdout",
     "output_type": "stream",
     "text": [
      "C = 0.000010\n",
      "Time elapsed:  0:00:02.437932\n",
      "Score:  [ 0.69959206  0.69159358  0.69419291  0.69433159  0.69589176]\n",
      "C = 0.000100\n",
      "Time elapsed:  0:00:03.892898\n",
      "Score:  [ 0.7161759   0.7083769   0.70960313  0.71017245  0.71192219]\n",
      "C = 0.001000\n",
      "Time elapsed:  0:00:07.518453\n",
      "Score:  [ 0.72134945  0.71368677  0.71425051  0.71512064  0.71649386]\n",
      "C = 0.010000\n",
      "Time elapsed:  0:00:09.928469\n",
      "Score:  [ 0.7216634   0.71377395  0.71440813  0.71540233  0.7164595 ]\n",
      "C = 0.100000\n",
      "Time elapsed:  0:00:10.984627\n",
      "Score:  [ 0.72165841  0.7137031   0.71438941  0.71539496  0.71640454]\n",
      "C = 1.000000\n",
      "Time elapsed:  0:00:10.382567\n",
      "Score:  [ 0.72165762  0.71369565  0.71438656  0.71539329  0.7163998 ]\n",
      "C = 10.000000\n",
      "Time elapsed:  0:00:10.390042\n",
      "Score:  [ 0.72165702  0.7136947   0.71438623  0.71539423  0.71639952]\n",
      "C = 100.000000\n",
      "Time elapsed:  0:00:10.390577\n",
      "Score:  [ 0.72165734  0.71369455  0.7143859   0.71539408  0.71639946]\n",
      "C = 1000.000000\n",
      "Time elapsed:  0:00:10.387783\n",
      "Score:  [ 0.72165734  0.71369457  0.71438593  0.71539409  0.71639938]\n",
      "C = 10000.000000\n",
      "Time elapsed:  0:00:10.512241\n",
      "Score:  [ 0.72165733  0.71369457  0.71438593  0.71539407  0.71639938]\n"
     ]
    },
    {
     "data": {
      "image/png": "[encoded data removed]",
      "text/plain": [
       "<matplotlib.figure.Figure at 0x2c1cf10>"
      ]
     },
     "metadata": {},
     "output_type": "display_data"
    },
    {
     "name": "stdout",
     "output_type": "stream",
     "text": [
      "The best score is 0.716341 with C = 0.010000\n"
     ]
    }
   ],
   "source": [
    "# First - Тестирование на исходных данных\n",
    "\n",
    "X = features_train.copy()\n",
    "y = np.ravel(X['radiant_win'])\n",
    "X = features_clean(X)\n",
    "X = features_scaler(X)\n",
    "\n",
    "scores_first = model_test(X, y, C)\n",
    "evaluation_first, c_first = get_best_c(scores_first, C)\n",
    "get_plot_C(C_row, scores_first)\n",
    "print(\"The best score is %f with C = %f\" % (evaluation_first, c_first))"
   ]
  },
  {
   "cell_type": "markdown",
   "metadata": {},
   "source": [
    "На исходных данных наилучшее качество получилось 0.716341 при С = 0.01.\n",
    "Этот результат почти такой же, как и у градиентного бустинга с 200 деревьями.\n",
    "Логистическая регрессия по сравнению с градиентным бустингом работает значительно быстрее."
   ]
  },
  {
   "cell_type": "code",
   "execution_count": 14,
   "metadata": {},
   "outputs": [
    {
     "name": "stdout",
     "output_type": "stream",
     "text": [
      "C = 0.000010\n",
      "Time elapsed:  0:00:02.208137\n",
      "Score:  [ 0.69961316  0.69150564  0.69419646  0.69425458  0.69571482]\n",
      "C = 0.000100\n",
      "Time elapsed:  0:00:03.508269\n",
      "Score:  [ 0.71630684  0.70828717  0.70971489  0.71020968  0.71172337]\n",
      "C = 0.001000\n",
      "Time elapsed:  0:00:06.715190\n",
      "Score:  [ 0.72152794  0.71360976  0.71445497  0.71521698  0.71636831]\n",
      "C = 0.010000\n",
      "Time elapsed:  0:00:08.846798\n",
      "Score:  [ 0.7218164   0.71370124  0.71462628  0.71551614  0.71634469]\n",
      "C = 0.100000\n",
      "Time elapsed:  0:00:09.249624\n",
      "Score:  [ 0.72181205  0.7136378   0.7146095   0.71551012  0.71629945]\n",
      "C = 1.000000\n",
      "Time elapsed:  0:00:10.122859\n",
      "Score:  [ 0.72181039  0.71363045  0.71460884  0.71551016  0.71629392]\n",
      "C = 10.000000\n",
      "Time elapsed:  0:00:10.096375\n",
      "Score:  [ 0.72181043  0.71362965  0.71460893  0.71551033  0.71629306]\n",
      "C = 100.000000\n",
      "Time elapsed:  0:00:09.860056\n",
      "Score:  [ 0.72181067  0.71362945  0.71460889  0.71551027  0.71629322]\n",
      "C = 1000.000000\n",
      "Time elapsed:  0:00:09.260015\n",
      "Score:  [ 0.72181072  0.71362952  0.71460893  0.71551026  0.71629323]\n",
      "C = 10000.000000\n",
      "Time elapsed:  0:00:09.272348\n",
      "Score:  [ 0.72181071  0.71362952  0.71460894  0.71551026  0.71629323]\n"
     ]
    },
    {
     "data": {
      "image/png": "[encoded data removed]",
      "text/plain": [
       "<matplotlib.figure.Figure at 0xdbcb210>"
      ]
     },
     "metadata": {},
     "output_type": "display_data"
    },
    {
     "name": "stdout",
     "output_type": "stream",
     "text": [
      "The best score is 0.716401 with C = 0.010000\n"
     ]
    }
   ],
   "source": [
    "# SECOND - Тестирование на данных без категориальных признаков\n",
    "\n",
    "X_ = features_clean_categories(X)\n",
    "\n",
    "scores_second = model_test(X_, y, C)\n",
    "evaluation_second, c_second = get_best_c(scores_second, C)\n",
    "get_plot_C(C_row, scores_second)\n",
    "print(\"The best score is %f with C = %f\" % (evaluation_second, c_second))"
   ]
  },
  {
   "cell_type": "markdown",
   "metadata": {},
   "source": [
    "Качество при использовании данных без категориальных признаков не изменилось (0.716401) при том же значении С = 0.01.\n",
    "Таким образом эти признаки не влияют на предсказание модели."
   ]
  },
  {
   "cell_type": "code",
   "execution_count": 15,
   "metadata": {},
   "outputs": [
    {
     "name": "stdout",
     "output_type": "stream",
     "text": [
      "There are 108 heroes used at train data.\n",
      "There are 112 heroes used at the game (data from heroes.csv)\n"
     ]
    }
   ],
   "source": [
    "# Подсчет количества различных идентификаторов героев\n",
    "\n",
    "hero_columns = ['r1_hero', 'r2_hero', 'r3_hero', 'r4_hero', 'r5_hero', 'd1_hero', 'd2_hero', 'd3_hero', 'd4_hero', 'd5_hero']\n",
    "hero_values = np.array([])\n",
    "\n",
    "for column in hero_columns:\n",
    "    t = features[column].unique()\n",
    "    hero_values = np.append(hero_values, t)\n",
    "\n",
    "heroes_count_train = len(np.unique(hero_values))\n",
    "print(\"There are %d heroes used at train data.\" % heroes_count_train)\n",
    "\n",
    "heroes = pd.read_csv('heroes.csv')\n",
    "heroes_count = len(heroes)\n",
    "print(\"There are %d heroes used at the game (data from heroes.csv)\" % heroes_count)"
   ]
  },
  {
   "cell_type": "code",
   "execution_count": 17,
   "metadata": {},
   "outputs": [
    {
     "name": "stderr",
     "output_type": "stream",
     "text": [
      "/usr/lib/python2.7/site-packages/ipykernel_launcher.py:31: DeprecationWarning: \n",
      ".ix is deprecated. Please use\n",
      ".loc for label based indexing or\n",
      ".iloc for positional indexing\n",
      "\n",
      "See the documentation here:\n",
      "http://pandas.pydata.org/pandas-docs/stable/indexing.html#ix-indexer-is-deprecated\n"
     ]
    },
    {
     "name": "stdout",
     "output_type": "stream",
     "text": [
      "C = 0.000010\n",
      "Time elapsed:  0:00:03.061918\n",
      "Score:  [ 0.70384072  0.69557033  0.69838234  0.69839816  0.69966507]\n",
      "C = 0.000100\n",
      "Time elapsed:  0:00:04.522909\n",
      "Score:  [ 0.7300782   0.7222305   0.72367081  0.72384682  0.72528442]\n",
      "C = 0.001000\n",
      "Time elapsed:  0:00:08.872006\n",
      "Score:  [ 0.75073228  0.74413908  0.74560954  0.74433549  0.74666478]\n",
      "C = 0.010000\n",
      "Time elapsed:  0:00:14.430766\n",
      "Score:  [ 0.75511581  0.7496667   0.7517913   0.74944059  0.75266536]\n",
      "C = 0.100000\n",
      "Time elapsed:  0:00:19.354557\n",
      "Score:  [ 0.7551572   0.74990841  0.75213544  0.74956231  0.75292389]\n",
      "C = 1.000000\n",
      "Time elapsed:  0:00:20.321413\n",
      "Score:  [ 0.75512742  0.74989818  0.75212697  0.74954165  0.75290449]\n",
      "C = 10.000000\n",
      "Time elapsed:  0:00:20.467095\n",
      "Score:  [ 0.75512089  0.74989744  0.75212535  0.74954013  0.75290264]\n",
      "C = 100.000000\n",
      "Time elapsed:  0:00:20.416685\n",
      "Score:  [ 0.75512029  0.74989741  0.75212493  0.74954004  0.75290224]\n",
      "C = 1000.000000\n",
      "Time elapsed:  0:00:20.790403\n",
      "Score:  [ 0.75512035  0.74989711  0.75212518  0.74953973  0.75290231]\n",
      "C = 10000.000000\n",
      "Time elapsed:  0:00:20.392555\n",
      "Score:  [ 0.75512051  0.7498971   0.75212559  0.74954032  0.75290235]\n"
     ]
    },
    {
     "data": {
      "image/png": "[encoded data removed]",
      "text/plain": [
       "<matplotlib.figure.Figure at 0xdbcd1d0>"
      ]
     },
     "metadata": {},
     "output_type": "display_data"
    },
    {
     "name": "stdout",
     "output_type": "stream",
     "text": [
      "The best score is 0.751937 with C = 0.100000\n"
     ]
    }
   ],
   "source": [
    "# ThIRD - Тестирование с добавлением новых признаков героев\n",
    "\n",
    "X_pick = features_create(features_train, heroes_count=heroes_count)\n",
    "X_bag = pd.concat([X_, X_pick], axis=1)\n",
    "\n",
    "scores_bag = model_test(X_bag, y, C)\n",
    "evaluation_bag, c_bag = get_best_c(scores_bag, C)\n",
    "get_plot_C(C_row, scores_bag)\n",
    "print(\"The best score is %f with C = %f\" % (evaluation_bag, c_bag))"
   ]
  },
  {
   "cell_type": "markdown",
   "metadata": {},
   "source": [
    "При использовании \"мешка слов\" качество получилось 0.751937 при параметре C = 0.1.\n",
    "Качество улучшилось. Это можно объяснить тем, что раньше по имеющимся признаком нельзя было учесть индивидуально каждого героя, соответственно и его возможность выигрывать."
   ]
  },
  {
   "cell_type": "code",
   "execution_count": 18,
   "metadata": {},
   "outputs": [
    {
     "name": "stderr",
     "output_type": "stream",
     "text": [
      "/usr/lib/python2.7/site-packages/ipykernel_launcher.py:31: DeprecationWarning: \n",
      ".ix is deprecated. Please use\n",
      ".loc for label based indexing or\n",
      ".iloc for positional indexing\n",
      "\n",
      "See the documentation here:\n",
      "http://pandas.pydata.org/pandas-docs/stable/indexing.html#ix-indexer-is-deprecated\n",
      "/usr/lib64/python2.7/site-packages/sklearn/linear_model/logistic.py:1228: UserWarning: 'n_jobs' > 1 does not have any effect when 'solver' is set to 'liblinear'. Got 'n_jobs' = -1.\n",
      "  \" = {}.\".format(self.n_jobs))\n"
     ]
    },
    {
     "name": "stdout",
     "output_type": "stream",
     "text": [
      "Max prediction value of test data is 0.996459\n",
      "Min prediction value of test data is 0.008581\n"
     ]
    }
   ],
   "source": [
    "# Запуск модели на тестовой выборке\n",
    "\n",
    "features_test = pd.read_csv('features_test.csv', index_col='match_id')\n",
    "X_test = features_test.copy()\n",
    "X_test = X_test.fillna(0)\n",
    "X_test = features_scaler(X_test)\n",
    "X_test = features_clean_categories(X_test)\n",
    "X_pick1 = features_create(features_test, heroes_count=heroes_count)\n",
    "X_test = pd.concat([X_test, X_pick1], axis=1)\n",
    "\n",
    "model = LogisticRegression(C=0.1, random_state=241, n_jobs=-1)\n",
    "model.fit(X_bag, y)\n",
    "\n",
    "pred = model.predict_proba(X_test)[:, 1]\n",
    "\n",
    "submission = pd.DataFrame({\n",
    "    'match_id':list(X_test.index),\n",
    "    'radiant_win':list(pred)\n",
    "})\n",
    "\n",
    "submission.to_csv('dota2_predicts_logreg.csv', index=False)\n",
    "\n",
    "print(\"Max prediction value of test data is %f\" % pred.max())\n",
    "print(\"Min prediction value of test data is %f\" % pred.min())"
   ]
  },
  {
   "cell_type": "markdown",
   "metadata": {},
   "source": [
    "Предсказанные вероятности адекватные. Полученная модель получила на Kaggle оценку **0.75526**"
   ]
  },
  {
   "cell_type": "markdown",
   "metadata": {},
   "source": [
    "# Ответы на часть 2\n",
    "<br>\n",
    "1. Какое качество получилось у логистической регрессии над всеми исходными признаками? Как оно соотносится с качеством градиентного бустинга? Чем вы можете объяснить эту разницу? Быстрее ли работает логистическая регрессия по сравнению с градиентным бустингом?<br>\n",
    "<br>\n",
    "На сырых данных наилучшее качество получилось **0.716341** при **С = 0.01**.<br>\n",
    "Этот результат почти такой же, как и у градиентного бустинга с 200 деревьями.<br>\n",
    "Логистическая регрессия по сравнению с градиентным бустингом работает значительно быстрее.<br>\n",
    "<br>\n",
    "2. Как влияет на качество логистической регрессии удаление категориальных признаков (укажите новое значение метрики качества)? Чем вы можете объяснить это изменение?<br>\n",
    "<br>\n",
    "Качество при использовании данных без категориальных признаков не изменилось (**0.716401**) при том же значении **С = 0.01**.\n",
    "Таким образом эти признаки не влияют на предсказание модели.\n",
    "<br>\n",
    "3. Сколько различных идентификаторов героев существует в данной игре?<br>\n",
    "<br>\n",
    "Если получать индентификаторы из тренировочных двнных, то всего их насчитывается 108. Всего же в игре существут **112** различных идентификаторов (из данных heroes.csv)<br>\n",
    "<br>\n",
    "4. Какое получилось качество при добавлении \"мешка слов\" по героям? Улучшилось ли оно по сравнению с предыдущим вариантом? Чем вы можете это объяснить?<br>\n",
    "<br>\n",
    "При использовании \"мешка слов\" качество получилось **0.751937** при параметре **C = 0.1**.<br>\n",
    "Качество улучшилось. Это можно объяснить тем, что раньше по имеющимся признаком нельзя было учесть индивидуально каждого героя, соответственно и его возможность выигрывать.<br>\n",
    "<br>\n",
    "5. Какое минимальное и максимальное значение прогноза на тестовой выборке получилось у лучшего из алгоритмов?<br>\n",
    "Минимальное и максимальное значение прогноза на тестовой выборке получилось **0.008581** и **0.996459** соответственно.\n"
   ]
  }
 ],
 "metadata": {
  "kernelspec": {
   "display_name": "Python 2",
   "language": "python",
   "name": "python2"
  },
  "language_info": {
   "codemirror_mode": {
    "name": "ipython",
    "version": 2
   },
   "file_extension": ".py",
   "mimetype": "text/x-python",
   "name": "python",
   "nbconvert_exporter": "python",
   "pygments_lexer": "ipython2",
   "version": "2.7.5"
  }
 },
 "nbformat": 4,
 "nbformat_minor": 2
}
