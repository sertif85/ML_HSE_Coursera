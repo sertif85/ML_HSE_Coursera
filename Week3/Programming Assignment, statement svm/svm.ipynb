{
 "cells": [
  {
   "cell_type": "markdown",
   "metadata": {},
   "source": [
    "Programming Assignment: Опорные объекты\n",
    "\n",
    "Вы научитесь:\n",
    "\n",
    "работать с методом опорных векторов (SVM)\n",
    "находить наиболее важные объекты выборки\n"
   ]
  },
  {
   "cell_type": "code",
   "execution_count": 32,
   "metadata": {},
   "outputs": [
    {
     "name": "stdout",
     "output_type": "stream",
     "text": [
      "X = \n",
      "     x1    x2\n",
      "0  0.70  0.29\n",
      "1  0.23  0.55\n",
      "2  0.72  0.42\n",
      "3  0.98  0.68\n",
      "4  0.48  0.39\n",
      "5  0.34  0.73\n",
      "6  0.44  0.06\n",
      "7  0.40  0.74\n",
      "8  0.18  0.18\n",
      "9  0.53  0.53\n",
      "[3 4 9]\n",
      "[[ 0.98  0.68]\n",
      " [ 0.48  0.39]\n",
      " [ 0.53  0.53]]\n",
      "Index of support vectors classification:\n",
      "(4, array([ 0.98,  0.68]))\n",
      "(5, array([ 0.48,  0.39]))\n",
      "(10, array([ 0.53,  0.53]))\n"
     ]
    }
   ],
   "source": [
    "import pandas as pd\n",
    "import numpy as np\n",
    "from sklearn.svm import SVC\n",
    "\n",
    "data = pd.read_csv(\"svm-data.csv\", header=None)\n",
    "data.columns = ['y', 'x1', 'x2']\n",
    "X = data[['x1', 'x2']]\n",
    "y = np.ravel(data[['y']])    # приведение вектора целевой переменной в одномерный массив\n",
    "\n",
    "clf = SVC(C=100000, kernel='linear',random_state=241)\n",
    "clf.fit(X, y)\n",
    "\n",
    "print(\"X = \")\n",
    "print(X)\n",
    "\n",
    "print(clf.support_)\n",
    "print(clf.support_vectors_)\n",
    "print(\"Index of support vectors classification:\")\n",
    "for i in range(clf.support_.size):\n",
    "    print(clf.support_[i]+1, clf.support_vectors_[i])\n"
   ]
  }
 ],
 "metadata": {
  "kernelspec": {
   "display_name": "Python 2",
   "language": "python",
   "name": "python2"
  },
  "language_info": {
   "codemirror_mode": {
    "name": "ipython",
    "version": 2
   },
   "file_extension": ".py",
   "mimetype": "text/x-python",
   "name": "python",
   "nbconvert_exporter": "python",
   "pygments_lexer": "ipython2",
   "version": "2.7.5"
  }
 },
 "nbformat": 4,
 "nbformat_minor": 2
}
