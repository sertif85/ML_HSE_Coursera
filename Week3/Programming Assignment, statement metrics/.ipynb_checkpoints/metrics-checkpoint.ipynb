{
 "cells": [
  {
   "cell_type": "markdown",
   "metadata": {},
   "source": [
    "Programming Assignment: Метрики качества классификации\n",
    "\n",
    "Вы научитесь:\n",
    "\n",
    "вычислять различные меры качества классификации: долю правильных ответов, точность, полноту, AUC-ROC и т.д.\n",
    "сравнивать алгоритмы классификации при наличии ограничений на точность или полноту"
   ]
  },
  {
   "cell_type": "code",
   "execution_count": 30,
   "metadata": {},
   "outputs": [
    {
     "name": "stdout",
     "output_type": "stream",
     "text": [
      "TPFN, FPTN : 102 98\n",
      "Answer on question 1: 43 34 59 64\n"
     ]
    }
   ],
   "source": [
    "import pandas as pd\n",
    "import numpy as np\n",
    "from sklearn import metrics\n",
    "from __future__ import division\n",
    "\n",
    "# Загрузите файл classification.csv. \n",
    "# В нем записаны истинные классы объектов выборки (колонка true) и ответы некоторого классификатора (колонка pred).\n",
    "\n",
    "data = pd.read_csv(\"classification.csv\")\n",
    "\n",
    "# Заполните таблицу ошибок классификации:\n",
    "# Actual Positive\tActual Negative\n",
    "# Predicted Positive\tTP\tFP\n",
    "# Predicted Negative\tFN\tTN\n",
    "# Для этого подсчитайте величины TP, FP, FN и TN согласно их определениям. \n",
    "# Например, FP — это количество объектов, имеющих класс 0, но отнесенных алгоритмом к классу 1. \n",
    "# Ответ в данном вопросе — четыре числа через пробел.\n",
    "\n",
    "TPFN = data['true'].value_counts()[1]\n",
    "FPTN = data['true'].value_counts()[0]\n",
    "\n",
    "print('TPFN, FPTN : %d %d' % (TPFN, FPTN)) \n",
    "TP, FP, FN, TN = 0, 0, 0, 0\n",
    "for i in xrange(data.shape[0]):\n",
    "    if data['true'][i] == data['pred'][i]:\n",
    "        if data['true'][i] == 1:\n",
    "            TP += 1\n",
    "        if data['true'][i] == 0:\n",
    "            TN += 1\n",
    "    else:\n",
    "        if data['true'][i] == 1:\n",
    "            FN += 1\n",
    "        if data['true'][i] == 0:\n",
    "            FP += 1\n",
    "\n",
    "print('Answer on question 1: %d %d %d %d' % (TP, FP, FN, TN))"
   ]
  },
  {
   "cell_type": "code",
   "execution_count": 33,
   "metadata": {},
   "outputs": [
    {
     "name": "stdout",
     "output_type": "stream",
     "text": [
      "Answer on question 2: 0.54 0.56 0.42 0.48\n"
     ]
    }
   ],
   "source": [
    "# Посчитайте основные метрики качества классификатора:\n",
    "# Accuracy (доля верно угаданных) — sklearn.metrics.accuracy_score\n",
    "# Precision (точность) — sklearn.metrics.precision_score\n",
    "# Recall (полнота) — sklearn.metrics.recall_score\n",
    "# F-мера — sklearn.metrics.f1_score\n",
    "# В качестве ответа укажите эти четыре числа через пробел.\n",
    "\n",
    "accuracy = metrics.accuracy_score(data['true'], data['pred'])\n",
    "precision = metrics.precision_score(data['true'], data['pred'])\n",
    "recall = metrics.recall_score(data['true'], data['pred'])\n",
    "f1 = metrics.f1_score(data['true'], data['pred'])\n",
    "\n",
    "print('Answer on question 2: %.2f %.2f %.2f %.2f' % (accuracy, precision, recall, f1))"
   ]
  },
  {
   "cell_type": "code",
   "execution_count": 18,
   "metadata": {},
   "outputs": [
    {
     "name": "stdout",
     "output_type": "stream",
     "text": [
      "TPFN, FPTN : 102 98\n",
      "Answer on question 1: 43 34 59 64\n"
     ]
    }
   ],
   "source": []
  },
  {
   "cell_type": "code",
   "execution_count": null,
   "metadata": {
    "collapsed": true
   },
   "outputs": [],
   "source": []
  }
 ],
 "metadata": {
  "kernelspec": {
   "display_name": "Python 2",
   "language": "python",
   "name": "python2"
  },
  "language_info": {
   "codemirror_mode": {
    "name": "ipython",
    "version": 2
   },
   "file_extension": ".py",
   "mimetype": "text/x-python",
   "name": "python",
   "nbconvert_exporter": "python",
   "pygments_lexer": "ipython2",
   "version": "2.7.5"
  }
 },
 "nbformat": 4,
 "nbformat_minor": 2
}
