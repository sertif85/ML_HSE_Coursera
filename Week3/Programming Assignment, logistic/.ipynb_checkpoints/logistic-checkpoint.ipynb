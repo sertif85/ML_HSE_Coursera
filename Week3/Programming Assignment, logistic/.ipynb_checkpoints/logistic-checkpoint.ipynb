{
 "cells": [
  {
   "cell_type": "markdown",
   "metadata": {},
   "source": [
    "Programming Assignment: Логистическая регрессия\n",
    "\n",
    "Вы научитесь:\n",
    "\n",
    "работать с логистической регрессией\n",
    "реализовывать градиентный спуск для ее настройки\n",
    "использовать регуляризацию\n",
    "\n"
   ]
  },
  {
   "cell_type": "code",
   "execution_count": 43,
   "metadata": {},
   "outputs": [
    {
     "name": "stdout",
     "output_type": "stream",
     "text": [
      "X shape = (205, 2)\n",
      "y shape = (205,)\n"
     ]
    }
   ],
   "source": [
    "# Загрузите данные из файла data-logistic.csv. Это двумерная выборка, целевая переменная на которой принимает значения -1 или 1.\n",
    "\n",
    "import pandas as pd\n",
    "import numpy as np\n",
    "from scipy.spatial.distance import euclidean\n",
    "from sklearn.metrics import roc_auc_score\n",
    "\n",
    "data = pd.read_csv(\"data-logistic.csv\", header=None)\n",
    "data.columns = ['y', 'x1', 'x2']\n",
    "X = data[['x1', 'x2']]\n",
    "y = np.ravel(data[['y']])\n",
    "\n",
    "print(\"X shape = %s\\ny shape = %s\" % (X.shape, y.shape))"
   ]
  },
  {
   "cell_type": "code",
   "execution_count": 122,
   "metadata": {},
   "outputs": [],
   "source": [
    "# Убедитесь, что выше выписаны правильные формулы для градиентного спуска. Обратите внимание, что мы используем полноценный градиентный спуск, а не его стохастический вариант!\n",
    "# Реализуйте градиентный спуск для обычной и L2-регуляризованной (с коэффициентом регуляризации 10) логистической регрессии. Используйте длину шага k=0.1. В качестве начального приближения используйте вектор (0, 0).\n",
    "\n",
    "def calc_w1(w1, w2, k, X, y, C):\n",
    "    l = len(y)\n",
    "    sum = 0\n",
    "    \n",
    "    for i in xrange(0, l):\n",
    "        sum +=  y[i] * X['x1'][i] * (1.0 - 1.0 / (1.0 + np.exp(-y[i] * (w1 * X['x1'][i] + w2 * X['x2'][i]))))\n",
    "        \n",
    "    return w1 + (k * (1.0 / l) * sum) - k * C * w1\n",
    "\n",
    "def calc_w2(w1, w2, k, X, y, C):\n",
    "    l = len(y)\n",
    "    sum = 0\n",
    "    \n",
    "    for i in xrange(0, l):\n",
    "        sum +=  y[i] * X['x2'][i] * (1.0 - 1.0 / (1.0 + np.exp(-y[i] * (w1 * X['x1'][i] + w2 * X['x2'][i]))))\n",
    "        \n",
    "    return w2 + (k * (1.0 / l) * sum) - k * C * w2\n",
    "\n",
    "def grad(X, y, C=0.0, w1=0.0, w2=0.0, k=0.1, err=1e-5):\n",
    "    w1_, w2_ = w1, w2\n",
    "\n",
    "    for j in xrange(1, 10000):\n",
    "        w1 = calc_w1(w1, w2, k, X, y, C)\n",
    "        w2 = calc_w2(w1, w2, k, X, y, C)\n",
    "        w = [w1, w2]\n",
    "        w_ = [w1_, w2_]\n",
    "        if euclidean([w1, w2], [w1_, w2_]) > err:\n",
    "            w1_ = w1\n",
    "            w2_ = w2\n",
    "        else:\n",
    "            break\n",
    "    \n",
    "    return w1_, w2_, j\n",
    "\n",
    "# Запустите градиентный спуск и доведите до сходимости (евклидово расстояние между векторами весов на соседних итерациях должно быть не больше 1e-5). Рекомендуется ограничить сверху число итераций десятью тысячами.\n",
    "\n",
    "w1, w2, iter_number = grad(X, y)\n",
    "w1r10, w2r10, iter_number_r10 = grad(X, y, 10)"
   ]
  },
  {
   "cell_type": "code",
   "execution_count": 87,
   "metadata": {},
   "outputs": [
    {
     "name": "stdout",
     "output_type": "stream",
     "text": [
      "AUC-ROC score without regulirization = 0.927\n",
      "AUC-ROC score with regulirization (C=10) = 0.936\n"
     ]
    }
   ],
   "source": [
    "# Какое значение принимает AUC-ROC на обучении без регуляризации и при ее использовании? Эти величины будут ответом на задание. В качестве ответа приведите два числа через пробел. Обратите внимание, что на вход функции roc_auc_score нужно подавать оценки вероятностей, подсчитанные обученным алгоритмом. Для этого воспользуйтесь сигмоидной функцией: a(x) = 1 / (1 + exp(-w1 x1 - w2 x2)).\n",
    "\n",
    "l = len(y)\n",
    "prob, probr10 = [], []\n",
    "\n",
    "for i in xrange(l):\n",
    "    prob.append( 1.0 / (1.0 + np.exp(-w1 * X['x1'][i] - w2 * X['x2'][i])) )\n",
    "    probr10.append( 1.0 / (1.0 + np.exp(-w1r10 * X['x1'][i] - w2r10 * X['x2'][i])) )\n",
    "\n",
    "ras = roc_auc_score(y, prob)\n",
    "rasr10 = roc_auc_score(y, probr10)\n",
    "\n",
    "print(\"AUC-ROC score without regulirization = %.3f\" % ras)\n",
    "print(\"AUC-ROC score with regulirization (C=10) = %.3f\" % rasr10)"
   ]
  },
  {
   "cell_type": "code",
   "execution_count": 96,
   "metadata": {},
   "outputs": [
    {
     "name": "stdout",
     "output_type": "stream",
     "text": [
      "AUC-ROC score without regulirization = 0.927\n",
      "AUC-ROC score with regulirization (C=10) = 0.936\n"
     ]
    }
   ],
   "source": [
    "l = len(y)\n",
    "prob, probr10 = [], []\n",
    "\n",
    "prob = [ 1.0 / (1.0 + np.exp(-w1 * X['x1'][i] - w2 * X['x2'][i])) for i in xrange(l)]\n",
    "probr10 = [ 1.0 / (1.0 + np.exp(-w1r10 * X['x1'][i] - w2r10 * X['x2'][i])) for i in xrange(l)]\n",
    "\n",
    "ras = roc_auc_score(y, prob)\n",
    "rasr10 = roc_auc_score(y, probr10)\n",
    "\n",
    "print(\"AUC-ROC score without regulirization = %.3f\" % ras)\n",
    "print(\"AUC-ROC score with regulirization (C=10) = %.3f\" % rasr10)"
   ]
  },
  {
   "cell_type": "code",
   "execution_count": 123,
   "metadata": {},
   "outputs": [
    {
     "name": "stdout",
     "output_type": "stream",
     "text": [
      "AUC-ROC score without regulirization = 0.927\n",
      "AUC-ROC score with regulirization (C=10) = 0.936\n",
      "Count of iterations without regulirization = 236\n",
      "Count of iterations with regulirization = 6\n"
     ]
    }
   ],
   "source": [
    "prob = X.apply( lambda x: (1.0 / (1.0 + np.exp(-w1 * x['x1'] - w2 * x['x2']))), axis=1 )\n",
    "probr10 = X.apply( lambda x: ( 1.0 / (1.0 + np.exp(-w1r10 * x['x1'] - w2r10 * x['x2']))), axis=1 )\n",
    "\n",
    "ras = roc_auc_score(y, prob)\n",
    "rasr10 = roc_auc_score(y, probr10)\n",
    "\n",
    "print(\"AUC-ROC score without regulirization = %.3f\" % ras)\n",
    "print(\"AUC-ROC score with regulirization (C=10) = %.3f\" % rasr10)\n",
    "print(\"Count of iterations without regulirization = %d\" % iter_number)\n",
    "print(\"Count of iterations with regulirization = %d\" % iter_number_r10)"
   ]
  },
  {
   "cell_type": "code",
   "execution_count": 138,
   "metadata": {},
   "outputs": [
    {
     "name": "stdout",
     "output_type": "stream",
     "text": [
      "AUC-ROC score without regulirization = 0.927\n",
      "AUC-ROC score with regulirization (C=10) = 0.936\n",
      "Count of iterations without regulirization = 9\n",
      "Count of iterations with regulirization = 6\n"
     ]
    }
   ],
   "source": [
    "# Попробуйте поменять длину шага. \n",
    "# Будет ли сходиться алгоритм, если делать более длинные шаги? \n",
    "# Как меняется число итераций при уменьшении длины шага?\n",
    "# Попробуйте менять начальное приближение. Влияет ли оно на что-нибудь?\n",
    "\n",
    "w1, w2, iter_number = grad(X, y, w1=0, w2=0, k=1.8)\n",
    "\n",
    "prob = X.apply( lambda x: (1.0 / (1.0 + np.exp(-w1 * x['x1'] - w2 * x['x2']))), axis=1 )\n",
    "probr10 = X.apply( lambda x: ( 1.0 / (1.0 + np.exp(-w1r10 * x['x1'] - w2r10 * x['x2']))), axis=1 )\n",
    "\n",
    "ras = roc_auc_score(y, prob)\n",
    "rasr10 = roc_auc_score(y, probr10)\n",
    "\n",
    "print(\"AUC-ROC score without regulirization = %.3f\" % ras)\n",
    "print(\"AUC-ROC score with regulirization (C=10) = %.3f\" % rasr10)\n",
    "print(\"Count of iterations without regulirization = %d\" % iter_number)\n",
    "print(\"Count of iterations with regulirization = %d\" % iter_number_r10)"
   ]
  }
 ],
 "metadata": {
  "kernelspec": {
   "display_name": "Python 2",
   "language": "python",
   "name": "python2"
  },
  "language_info": {
   "codemirror_mode": {
    "name": "ipython",
    "version": 2
   },
   "file_extension": ".py",
   "mimetype": "text/x-python",
   "name": "python",
   "nbconvert_exporter": "python",
   "pygments_lexer": "ipython2",
   "version": "2.7.5"
  }
 },
 "nbformat": 4,
 "nbformat_minor": 2
}
