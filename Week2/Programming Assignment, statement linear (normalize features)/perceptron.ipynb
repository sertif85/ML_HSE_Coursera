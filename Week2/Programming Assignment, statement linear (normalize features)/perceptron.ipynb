{
 "cells": [
  {
   "cell_type": "markdown",
   "metadata": {},
   "source": [
    "Programming Assignment: Нормализация признаков\n",
    "\n",
    "Данное задание основано на материалах лекции по линейным методам классификации.\n",
    "\n",
    "Вы научитесь:\n",
    "работать с персептроном — простейшим вариантом линейного классификатора\n",
    "повышать качество линейной модели путем нормализации признаков"
   ]
  },
  {
   "cell_type": "code",
   "execution_count": 59,
   "metadata": {},
   "outputs": [
    {
     "name": "stdout",
     "output_type": "stream",
     "text": [
      "Accuracy before normilization = 0.655000\n",
      "Accuracy after normilization = 0.845000\n",
      "Difference after from before StandartScaler = 0.190\n"
     ]
    }
   ],
   "source": [
    "import pandas as pd\n",
    "import numpy as np\n",
    "from sklearn.linear_model import Perceptron\n",
    "from sklearn.metrics import accuracy_score\n",
    "from sklearn.preprocessing import StandardScaler\n",
    "\n",
    "perceptron_train = pd.read_csv(\"perceptron-train.csv\", header=None)\n",
    "perceptron_train.columns = ['y', 'x1', 'x2']\n",
    "perceptron_test = pd.read_csv(\"perceptron-test.csv\", header=None)\n",
    "perceptron_test.columns = ['y', 'x1', 'x2']\n",
    "\n",
    "train_x = perceptron_train[['x1', 'x2']]\n",
    "train_y = perceptron_train[['y']]\n",
    "test_x = perceptron_test[['x1', 'x2']]\n",
    "test_y = perceptron_test[['y']]\n",
    "\n",
    "clf = Perceptron(random_state=241)\n",
    "clf.fit(train_x, train_y)\n",
    "\n",
    "predictions = clf.predict(test_x)\n",
    "accuracy_b = accuracy_score(test_y, predictions)\n",
    "\n",
    "print(\"Accuracy before normilization = %f\" % accuracy_b)\n",
    "\n",
    "scaler = StandardScaler()\n",
    "train_x_scaled = scaler.fit_transform(train_x)\n",
    "test_x_scaled = scaler.transform(test_x)\n",
    "\n",
    "clf.fit(train_x_scaled, train_y)\n",
    "\n",
    "predictions = clf.predict(test_x_scaled)\n",
    "accuracy_a = accuracy_score(test_y, predictions)\n",
    "\n",
    "print(\"Accuracy after normilization = %f\" % accuracy_a)\n",
    "\n",
    "print(\"Difference after from before StandartScaler = %.3f\" % (accuracy_a - accuracy_b))"
   ]
  },
  {
   "cell_type": "code",
   "execution_count": 53,
   "metadata": {},
   "outputs": [
    {
     "name": "stdout",
     "output_type": "stream",
     "text": [
      "Accuracy before normilization = 0.655000\n"
     ]
    }
   ],
   "source": []
  },
  {
   "cell_type": "code",
   "execution_count": 52,
   "metadata": {},
   "outputs": [
    {
     "data": {
      "text/plain": [
       "0.65500000000000003"
      ]
     },
     "execution_count": 52,
     "metadata": {},
     "output_type": "execute_result"
    }
   ],
   "source": []
  }
 ],
 "metadata": {
  "kernelspec": {
   "display_name": "Python 2",
   "language": "python",
   "name": "python2"
  },
  "language_info": {
   "codemirror_mode": {
    "name": "ipython",
    "version": 2
   },
   "file_extension": ".py",
   "mimetype": "text/x-python",
   "name": "python",
   "nbconvert_exporter": "python",
   "pygments_lexer": "ipython2",
   "version": "2.7.5"
  }
 },
 "nbformat": 4,
 "nbformat_minor": 2
}
