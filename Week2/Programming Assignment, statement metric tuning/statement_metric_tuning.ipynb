{
 "cells": [
  {
   "cell_type": "markdown",
   "metadata": {},
   "source": [
    "Задание по программированию: Выбор метрики\n",
    "\n",
    "выборка Boston: https://archive.ics.uci.edu/ml/machine-learning-databases/housing/"
   ]
  },
  {
   "cell_type": "code",
   "execution_count": 4,
   "metadata": {},
   "outputs": [
    {
     "name": "stdout",
     "output_type": "stream",
     "text": [
      "(506, 13)\n"
     ]
    }
   ],
   "source": [
    "import pandas as pd\n",
    "import numpy as np\n",
    "from sklearn.datasets import load_boston\n",
    "from sklearn.preprocessing import scale\n",
    "from sklearn.neighbors import KNeighborsRegressor\n",
    "from sklearn.model_selection import KFold\n",
    "from sklearn.model_selection import cross_val_score\n",
    "\n",
    "dataset = load_boston()\n",
    "data = scale(dataset.data)\n",
    "print(dataset.data.shape)"
   ]
  },
  {
   "cell_type": "code",
   "execution_count": 18,
   "metadata": {},
   "outputs": [],
   "source": [
    "cv = KFold( n_splits=5, shuffle=True, random_state=42 )\n",
    "\n",
    "p_array = np.linspace(1, 10, num=200)\n",
    "\n",
    "scores = np.array([])\n",
    "for p in p_array:\n",
    "    reg = KNeighborsRegressor(n_neighbors=5, weights='distance', metric='minkowski', p=p)\n",
    "    score = cross_val_score(reg, data, dataset.target, cv=cv, scoring='neg_mean_squared_error')\n",
    "    scores = np.append(scores, score.mean())\n",
    "\n",
    "p = np.argmax(scores)+1\n",
    "mean_squared_error = scores.max()"
   ]
  },
  {
   "cell_type": "code",
   "execution_count": 19,
   "metadata": {},
   "outputs": [
    {
     "name": "stdout",
     "output_type": "stream",
     "text": [
      "Values\n",
      " p = 1\n",
      " mean_squared_error = -16.05\n"
     ]
    }
   ],
   "source": [
    "print(\"Values\\n p = %d\\n mean_squared_error = %.2f\" % (p, mean_squared_error))"
   ]
  }
 ],
 "metadata": {
  "kernelspec": {
   "display_name": "Python 2",
   "language": "python",
   "name": "python2"
  },
  "language_info": {
   "codemirror_mode": {
    "name": "ipython",
    "version": 2
   },
   "file_extension": ".py",
   "mimetype": "text/x-python",
   "name": "python",
   "nbconvert_exporter": "python",
   "pygments_lexer": "ipython2",
   "version": "2.7.5"
  }
 },
 "nbformat": 4,
 "nbformat_minor": 2
}
