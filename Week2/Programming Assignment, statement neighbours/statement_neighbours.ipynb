{
 "cells": [
  {
   "cell_type": "markdown",
   "metadata": {},
   "source": [
    "Задание по программированию: Выбор числа соседей\n",
    "\n",
    "выборка Wine: https://archive.ics.uci.edu/ml/datasets/wine\n"
   ]
  },
  {
   "cell_type": "code",
   "execution_count": 39,
   "metadata": {},
   "outputs": [
    {
     "data": {
      "text/plain": [
       "(178, 14)"
      ]
     },
     "execution_count": 39,
     "metadata": {},
     "output_type": "execute_result"
    }
   ],
   "source": [
    "import pandas as pd\n",
    "import numpy as np\n",
    "\n",
    "column_names = ['WineClass',\n",
    "'Alcohol', \n",
    "'Malic acid', \n",
    "'Ash', \n",
    "'Alcalinity of ash', \n",
    "'Magnesium', \n",
    "'Total phenols', \n",
    "'Flavanoids', \n",
    "'Nonflavanoid phenols', \n",
    "'Proanthocyanins', \n",
    "'Color intensity', \n",
    "'Hue', \n",
    "'OD280/OD315 of diluted wines', \n",
    "'Proline']\n",
    "\n",
    "database = pd.read_csv(\"./dataset/wine.data\", header=None)\n",
    "database.columns = column_names\n",
    "database.shape"
   ]
  },
  {
   "cell_type": "code",
   "execution_count": 74,
   "metadata": {},
   "outputs": [
    {
     "data": {
      "text/plain": [
       "((178, 13), (178,))"
      ]
     },
     "execution_count": 74,
     "metadata": {},
     "output_type": "execute_result"
    }
   ],
   "source": [
    "data_target = database[['WineClass']]\n",
    "data = database[['Alcohol', 'Malic acid', 'Ash', 'Alcalinity of ash', 'Magnesium', 'Total phenols', 'Flavanoids', 'Nonflavanoid phenols', 'Proanthocyanins', 'Color intensity', 'Hue', 'OD280/OD315 of diluted wines', 'Proline']]\n",
    "data_target.shape, data.shape\n",
    "data_target = np.ravel(data_target)\n",
    "data.shape, data_target.shape"
   ]
  },
  {
   "cell_type": "code",
   "execution_count": 76,
   "metadata": {},
   "outputs": [
    {
     "name": "stdout",
     "output_type": "stream",
     "text": [
      "Values before scale:\n",
      " k = 1\n",
      " a = 0.73\n",
      "Values after scale:\n",
      " k = 29\n",
      " a = 0.98\n"
     ]
    }
   ],
   "source": [
    "from sklearn.neighbors import KNeighborsClassifier\n",
    "from sklearn.model_selection import KFold\n",
    "from sklearn.model_selection import cross_val_score\n",
    "from sklearn.preprocessing import scale\n",
    "\n",
    "cv = KFold( n_splits=5, shuffle=True, random_state=42 )\n",
    "\n",
    "scores = np.array([])\n",
    "for k in range(1,51):\n",
    "    clf = KNeighborsClassifier( n_neighbors=k )\n",
    "    score = cross_val_score(clf, data, data_target, cv=cv)\n",
    "    scores = np.append(scores, score.mean())\n",
    "\n",
    "k1 = np.argmax(scores)+1\n",
    "a1 = scores.max()\n",
    "\n",
    "data_scale = scale(data)\n",
    "scores = np.array([])\n",
    "for k in range(1,51):\n",
    "    clf = KNeighborsClassifier( n_neighbors=k )\n",
    "    score = cross_val_score(clf, data_scale, data_target, cv=cv)\n",
    "    scores = np.append(scores, score.mean())\n",
    "\n",
    "k2 = np.argmax(scores)+1\n",
    "a2 = scores.max()\n",
    "\n",
    "print(\"Values before scale:\\n k = %d\\n a = %.2f\" % (k1, a1))\n",
    "print(\"Values after scale:\\n k = %d\\n a = %.2f\" % (k2, a2))\n",
    "#for train_index, test_index in cv.split( data ):\n",
    "#    print (\"TRAIN:\", train_index, \"TEST:\", test_index)\n",
    "#    X_train, X_test = data[train_index], data[test_index]\n",
    "#    y_train, y_test = data_target[train_index], data_target[test_index]\n"
   ]
  }
 ],
 "metadata": {
  "kernelspec": {
   "display_name": "Python 2",
   "language": "python",
   "name": "python2"
  },
  "language_info": {
   "codemirror_mode": {
    "name": "ipython",
    "version": 2
   },
   "file_extension": ".py",
   "mimetype": "text/x-python",
   "name": "python",
   "nbconvert_exporter": "python",
   "pygments_lexer": "ipython2",
   "version": "2.7.5"
  }
 },
 "nbformat": 4,
 "nbformat_minor": 2
}
