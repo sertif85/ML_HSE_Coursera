{
 "cells": [
  {
   "cell_type": "markdown",
   "metadata": {},
   "source": [
    "Programming Assignment: Линейная регрессия: прогноз оклада по описанию вакансии\n",
    "\n",
    "Данное задание основано на материалах лекций по линейной регрессии и посвящено предсказанию оклада, исходя из описания вакансии.\n",
    "\n",
    "Вы научитесь:\n",
    "\n",
    "использовать линейную регрессию\n",
    "применять линейную регрессию к текстовым данным\n",
    "\n",
    "Линейные методы хорошо подходят для работы с разреженными данными — к таковым относятся, например, тексты. Это можно объяснить высокой скоростью обучения и небольшим количеством параметров, благодаря чему удается избежать переобучения.\n",
    "\n",
    "Линейная регрессия имеет несколько разновидностей в зависимости от того, какой регуляризатор используется. Мы будем работать с гребневой регрессией, где применяется квадратичный, или L2-регуляризатор."
   ]
  },
  {
   "cell_type": "code",
   "execution_count": 150,
   "metadata": {},
   "outputs": [
    {
     "name": "stdout",
     "output_type": "stream",
     "text": [
      "Answer are 56555.62 37188.32\n",
      "0: 56555.62\n",
      "1: 37188.32\n"
     ]
    }
   ],
   "source": [
    "import pandas as pd\n",
    "import numpy as np\n",
    "from sklearn.feature_extraction.text import TfidfVectorizer\n",
    "from sklearn.feature_extraction import DictVectorizer\n",
    "from scipy.sparse import hstack\n",
    "\n",
    "# Загрузите данные об описаниях вакансий и соответствующих годовых зарплатах из файла salary-train.csv \n",
    "# (либо его заархивированную версию salary-train.zip).\n",
    "\n",
    "data = pd.read_csv('salary-train.csv')\n",
    "\n",
    "# Проведите предобработку:\n",
    "\n",
    "# Приведите тексты к нижнему регистру (text.lower()).\n",
    "data['FullDescription'] = data.apply(lambda x: x['FullDescription'].lower(), axis=1)\n",
    "\n",
    "# Замените все, кроме букв и цифр, на пробелы — это облегчит дальнейшее разделение текста на слова. \n",
    "# Для такой замены в строке text подходит следующий вызов: re.sub('[^a-zA-Z0-9]', ' ', text). \n",
    "# Также можно воспользоваться методом replace у DataFrame, чтобы сразу преобразовать все тексты:\n",
    "data['FullDescription'] = data['FullDescription'].replace('[^a-zA-Z0-9]', ' ', regex=True)\n",
    "\n",
    "# Примените TfidfVectorizer для преобразования текстов в векторы признаков. \n",
    "# Оставьте только те слова, которые встречаются хотя бы в 5 объектах (параметр min_df у TfidfVectorizer).\n",
    "vectorizer = TfidfVectorizer(min_df=5)\n",
    "vectors = vectorizer.fit_transform(data['FullDescription'])\n",
    "\n",
    "# Замените пропуски в столбцах LocationNormalized и ContractTime на специальную строку 'nan'.\n",
    "data['LocationNormalized'].fillna('nan', inplace=True)\n",
    "data['ContractTime'].fillna('nan', inplace=True)\n",
    "\n",
    "# Примените DictVectorizer для получения one-hot-кодирования признаков LocationNormalized и ContractTime.\n",
    "enc = DictVectorizer()\n",
    "data_categ = enc.fit_transform(data[['LocationNormalized', 'ContractTime']].to_dict('records'))\n",
    "\n",
    "# Объедините все полученные признаки в одну матрицу \"объекты-признаки\". \n",
    "# Обратите внимание, что матрицы для текстов и категориальных признаков являются разреженными. \n",
    "# Для объединения их столбцов нужно воспользоваться функцией scipy.sparse.hstack.\n",
    "\n",
    "data_train = hstack([vectors, data_categ])\n",
    "\n",
    "# Обучите гребневую регрессию с параметрами alpha=1 и random_state=241. \n",
    "# Целевая переменная записана в столбце SalaryNormalized.\n",
    "from sklearn.linear_model import Ridge\n",
    "\n",
    "y = data['SalaryNormalized']\n",
    "clf = Ridge(alpha=1.0, random_state=241)\n",
    "clf.fit(data_train, y)\n",
    "\n",
    "# Постройте прогнозы для двух примеров из файла salary-test-mini.csv. \n",
    "# Значения полученных прогнозов являются ответом на задание. Укажите их через пробел.\n",
    "\n",
    "data_test = pd.read_csv('salary-test-mini.csv')\n",
    "data_test['FullDescription'] = data_test['FullDescription'].str.lower()\n",
    "data_test['FullDescription'] = data_test['FullDescription'].replace('[^a-zA-Z0-9]', ' ', regex=True)\n",
    "data_test['LocationNormalized'].fillna('nan', inplace=True)\n",
    "data_test['ContractTime'].fillna('nan', inplace=True)\n",
    "\n",
    "vectors_test = vectorizer.transform(data_test['FullDescription'])\n",
    "data_test_categ = enc.transform(data_test[['LocationNormalized', 'ContractTime']].to_dict('records'))\n",
    "data_test = hstack([vectors_test, data_test_categ])\n",
    "\n",
    "predicts = clf.predict(data_test)\n",
    "print(\"Answer are %.2f %.2f\" % (predicts[0], predicts[1]))\n",
    "\n",
    "print('\\n'.join('{}: {:0.2f}'.format(*i) for i in enumerate(predicts)))"
   ]
  },
  {
   "cell_type": "code",
   "execution_count": 149,
   "metadata": {},
   "outputs": [
    {
     "name": "stdout",
     "output_type": "stream",
     "text": [
      "0: 56555.62\n",
      "1: 37188.32\n"
     ]
    }
   ],
   "source": [
    "#tmp = data['SalaryNormalized'].reset_index()\n",
    "#tmp = tmp.iloc[:,[1]].values\n",
    "print('\\n'.join('{}: {:0.2f}'.format(*i) for i in enumerate(predicts)))"
   ]
  }
 ],
 "metadata": {
  "kernelspec": {
   "display_name": "Python 2",
   "language": "python",
   "name": "python2"
  },
  "language_info": {
   "codemirror_mode": {
    "name": "ipython",
    "version": 2
   },
   "file_extension": ".py",
   "mimetype": "text/x-python",
   "name": "python",
   "nbconvert_exporter": "python",
   "pygments_lexer": "ipython2",
   "version": "2.7.5"
  }
 },
 "nbformat": 4,
 "nbformat_minor": 2
}
