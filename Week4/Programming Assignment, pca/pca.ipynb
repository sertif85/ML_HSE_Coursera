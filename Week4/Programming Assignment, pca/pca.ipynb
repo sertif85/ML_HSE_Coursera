{
 "cells": [
  {
   "cell_type": "markdown",
   "metadata": {},
   "source": [
    "Programming Assignment: Составление фондового индекса\n",
    "\n",
    "Вы научитесь:\n",
    "\n",
    "работать с методом главных компонент\n",
    "использовать его для вычисления улучшенного индекса Доу-Джонса\n",
    "Введение\n",
    "\n",
    "Метод главных компонент (principal component analysis, PCA) — это один из методов обучения без учителя, который позволяет сформировать новые признаки, являющиеся линейными комбинациями старых. При этом новые признаки строятся так, чтобы сохранить как можно больше дисперсии в данных. Иными словами, метод главных компонент понижает размерность данных оптимальным с точки зрения сохранения дисперсии способом.\n",
    "\n",
    "Основным параметром метода главных компонент является количество новых признаков. Как и в большинстве методов машинного обучения, нет четких рекомендаций по поводу выбора значения этого параметров. Один из подходов — выбирать минимальное число компонент, при котором объясняется не менее определенной доли дисперсии (это означает, что в выборке сохраняется данная доля от исходной дисперсии)."
   ]
  },
  {
   "cell_type": "code",
   "execution_count": 80,
   "metadata": {},
   "outputs": [
    {
     "name": "stdout",
     "output_type": "stream",
     "text": [
      "Answer 1\n",
      "Numbers of component is 4,\n",
      "and variance equal 0.927743\n",
      "\n",
      "Answer 2\n",
      "Coef corr Pirsona is 0.91\n",
      "\n",
      "Answer 3\n",
      "The Company with max weight in first component is { V }\n"
     ]
    }
   ],
   "source": [
    "import pandas as pd\n",
    "import numpy as np\n",
    "from sklearn.decomposition import PCA\n",
    "\n",
    "# 1. Загрузите данные close_prices.csv. \n",
    "# В этом файле приведены цены акций 30 компаний на закрытии торгов за каждый день периода.\n",
    "data = pd.read_csv('close_prices.csv')\n",
    "X = data.loc[:, data.columns != 'date']\n",
    "\n",
    "# 2. На загруженных данных обучите преобразование PCA с числом компоненты равным 10. \n",
    "# Скольких компонент хватит, чтобы объяснить 90% дисперсии?\n",
    "# хватит 4 компоненты с общей дисперсией более 92%\n",
    "pca = PCA(n_components=10)\n",
    "pca.fit(X)\n",
    "\n",
    "var, n_var = 0, 0\n",
    "for v in pca.explained_variance_ratio_:\n",
    "    n_var += 1\n",
    "    var += v\n",
    "    if var >=0.9:\n",
    "        break\n",
    "\n",
    "print(\"Answer 1\\nNumbers of component is %i,\\nand variance equal %f\\n\" % (n_var, var))\n",
    "\n",
    "#print(pca.components_)\n",
    "\n",
    "# 3. Примените построенное преобразование к исходным данным и возьмите значения первой компоненты.\n",
    "X_transform = pd.DataFrame(pca.transform(X))\n",
    "comp0 = X_transform[0]\n",
    "\n",
    "# 4. Загрузите информацию об индексе Доу-Джонса из файла djia_index.csv. \n",
    "# Чему равна корреляция Пирсона между первой компонентой и индексом Доу-Джонса?\n",
    "djia_index = pd.read_csv('djia_index.csv')\n",
    "corrpirs = np.corrcoef(comp0, djia_index['^DJI'])[1, 0]\n",
    "\n",
    "print(\"Answer 2\\nCoef corr Pirsona is %.2f\\n\" % corrpirs)\n",
    "\n",
    "# 5. Какая компания имеет наибольший вес в первой компоненте? Укажите ее название с большой буквы.\n",
    "comp0_values = pd.Series(pca.components_[0])\n",
    "comp0_index_max = comp0_values.argmax()\n",
    "\n",
    "print(\"Answer 3\\nThe Company with max weight in first component is { %s }\" % X.columns[comp0_index_max])\n"
   ]
  }
 ],
 "metadata": {
  "kernelspec": {
   "display_name": "Python 2",
   "language": "python",
   "name": "python2"
  },
  "language_info": {
   "codemirror_mode": {
    "name": "ipython",
    "version": 2
   },
   "file_extension": ".py",
   "mimetype": "text/x-python",
   "name": "python",
   "nbconvert_exporter": "python",
   "pygments_lexer": "ipython2",
   "version": "2.7.5"
  }
 },
 "nbformat": 4,
 "nbformat_minor": 2
}
